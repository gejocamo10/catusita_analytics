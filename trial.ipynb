{
 "cells": [
  {
   "cell_type": "code",
   "execution_count": 2,
   "metadata": {},
   "outputs": [],
   "source": [
    "import pandas as pd\n",
    "import numpy as np\n",
    "import yfinance as yf\n",
    "import math\n",
    "from typing import Tuple, Optional"
   ]
  },
  {
   "cell_type": "code",
   "execution_count": null,
   "metadata": {},
   "outputs": [],
   "source": [
    "self.df_predictions = pd.read_csv(f\"{self.path}/data/cleaned/predictions.csv\")\n",
    "self.df_inventory = pd.read_excel(f\"{self.path}/data/raw/catusita/inventory.xlsx\")\n",
    "self.df_rfm = pd.read_csv(f\"{self.path}/data/process/df_rfm.csv\")\n",
    "self.df_tc = pd.read_excel(f\"{self.path}/data/raw/catusita/saldo de todo 04.11.2024.2.xls\", skiprows=2)\n",
    "self.df_products = pd.read_csv(f\"{self.path}/data/process/catusita_consolidated.csv\")\n",
    "try:\n",
    "    self.df_backorder = pd.read_excel(f\"{self.path}/data/raw/catusita/backorder12_12.xlsx\")\n",
    "except FileNotFoundError:\n",
    "    self.df_backorder = pd.DataFrame()\n",
    "\n",
    "### to_datime\n",
    "self.df_tc['Ult. Fecha'] = pd.to_datetime(self.df_tc['Ult. Fecha'], errors='coerce')\n",
    "self.df_products['fecha'] = pd.to_datetime(self.df_products['fecha'])\n",
    "self.df_predictions['date'] = pd.to_datetime(self.df_predictions['date'])\n",
    "self.df_inventory['FECHA AL'] = pd.to_datetime(self.df_inventory['FECHA AL'], format='%Y%m%d')\n",
    "\n",
    "### processing data for raw tables\n",
    "## df_tc\n",
    "self.df_tc = self.df_tc[['Código','Mnd','Fob','Ult. Fecha','Ult. Compra']]\n",
    "self.df_tc.columns = ['codigo', 'moneda', 'monto', 'ultima_fecha', 'ultima_compra']\n",
    "self.df_tc['codigo'] = self.df_tc['codigo'].astype(str)\n",
    "self.df_tc = self.df_tc.dropna(subset=['ultima_fecha'])\n",
    "self.df_tc['codigo'] = self.df_tc['codigo'].str.lower()\n",
    "self.df_tc = self.df_tc[self.df_tc['ultima_fecha'].notna()]\n",
    "\n",
    "## df_product\n",
    "self.df_products['fecha_mensual'] = self.df_products['fecha'].dt.to_period('M').dt.to_timestamp()       \n",
    "# crear variable precio\n",
    "self.df_products['precio'] = self.df_products['venta_pen'] / self.df_products['cantidad']\n",
    "# crear variable margen\n",
    "self.df_products['margen'] = self.df_products['venta_pen'] / self.df_products['costo'] - 1\n",
    "self.df_margin_result = self.df_products.groupby('articulo').agg(\n",
    "    total_venta_pen=('venta_pen', 'sum'),\n",
    "    mean_margen=('margen', 'mean')\n",
    ").reset_index().sort_values(by='total_venta_pen', ascending=False)\n",
    "# agregar por fecha_mensual, articulo, fuente_suministro \n",
    "self.df_products = self.df_products.groupby(['fecha_mensual', 'articulo', 'fuente_suministro']).agg({\n",
    "    'codigo': 'first', \n",
    "    'cantidad': 'sum',\n",
    "    'transacciones': 'sum',\n",
    "    'venta_pen': 'sum', \n",
    "    'costo': 'mean',\n",
    "    'precio': 'mean',\n",
    "    'lt': 'first'\n",
    "}).reset_index().rename(columns={'venta_pen': 'total_venta_pen','margen': 'mean_margen'})\n",
    "\n",
    "## df_predictions\n",
    "self.df_predictions = self.df_predictions.rename(columns={'sku': 'articulo'})\n",
    "\n",
    "## df_inventory\n",
    "self.df_inventory.columns = ['cia', 'date', 'codigo', 'descripcion', 'um', 'stock']\n",
    "self.df_inventory.loc[:, 'codigo'] = self.df_inventory['codigo'].str.lower()\n",
    "self.df_inventory = self.df_inventory.groupby(['date','codigo','descripcion','um']).agg(\n",
    "    {\n",
    "        'stock':'sum'\n",
    "    }\n",
    ").reset_index()"
   ]
  },
  {
   "cell_type": "code",
   "execution_count": 3,
   "metadata": {},
   "outputs": [],
   "source": [
    "tipo_de_cambio_df = tipo_de_cambio_df[['Código','Mnd','Fob','Ult. Fecha','Ult. Compra']]\n",
    "tipo_de_cambio_df.columns = ['codigo', 'moneda', 'monto', 'ultima_fecha', 'ultima_compra']\n",
    "tipo_de_cambio_df = tipo_de_cambio_df.copy()\n",
    "tipo_de_cambio_df['codigo'] = tipo_de_cambio_df['codigo'].astype(str)\n",
    "tipo_de_cambio_df = tipo_de_cambio_df.dropna(subset=['ultima_fecha'])\n",
    "tipo_de_cambio_df['codigo'] = tipo_de_cambio_df['codigo'].str.lower()\n",
    "tipo_de_cambio_df = tipo_de_cambio_df[tipo_de_cambio_df['ultima_fecha'].notna()]\n",
    "tipo_de_cambio_df['ultima_fecha'] = pd.to_datetime(tipo_de_cambio_df['ultima_fecha'], errors='coerce')"
   ]
  },
  {
   "cell_type": "code",
   "execution_count": 4,
   "metadata": {},
   "outputs": [
    {
     "name": "stderr",
     "output_type": "stream",
     "text": [
      "[*********************100%***********************]  4 of 4 completed\n"
     ]
    }
   ],
   "source": [
    "start = tipo_de_cambio_df['ultima_fecha'].min().date()\n",
    "end = tipo_de_cambio_df['ultima_fecha'].max().date()\n",
    "currency_pairs = ['PENUSD=X', 'EURUSD=X', 'JPYUSD=X', 'GBPUSD=X']\n",
    "data = yf.download(currency_pairs, start=start, end=end)\n",
    "closing_prices = data['Close']\n",
    "closing_prices.columns = [col.split('.')[0] for col in closing_prices.columns]"
   ]
  },
  {
   "cell_type": "code",
   "execution_count": 5,
   "metadata": {},
   "outputs": [
    {
     "name": "stderr",
     "output_type": "stream",
     "text": [
      "C:\\Users\\YOGA\\AppData\\Local\\Temp\\ipykernel_16572\\2428493962.py:11: FutureWarning: Series.fillna with 'method' is deprecated and will raise in a future version. Use obj.ffill() or obj.bfill() instead.\n",
      "  long_format['Closing Price'] = long_format.groupby('Currency Pair')['Closing Price'].fillna(method='ffill')\n"
     ]
    }
   ],
   "source": [
    "long_format = closing_prices.reset_index().melt(id_vars='Date', var_name='Currency Pair', value_name='Closing Price')\n",
    "long_format['Currency Pair'] = long_format['Currency Pair'].str.replace('=X', '', regex=False)\n",
    "long_format = long_format.dropna(subset=['Closing Price'])\n",
    "\n",
    "full_date_range = pd.date_range(start=long_format['Date'].min(), end=long_format['Date'].max(), freq='D')\n",
    "currency_pairs = long_format['Currency Pair'].unique()\n",
    "complete_index = pd.MultiIndex.from_product([full_date_range, currency_pairs], names=['Date', 'Currency Pair'])\n",
    "df_full = pd.DataFrame(index=complete_index).reset_index()\n",
    "\n",
    "long_format = df_full.merge(long_format, on=['Date', 'Currency Pair'], how='left')\n",
    "long_format['Closing Price'] = long_format.groupby('Currency Pair')['Closing Price'].fillna(method='ffill')\n",
    "long_format = long_format.rename(columns={'Closing Price': 'tc'})"
   ]
  },
  {
   "cell_type": "code",
   "execution_count": 6,
   "metadata": {},
   "outputs": [],
   "source": [
    "merged_df_tc = pd.merge(tipo_de_cambio_df, long_format, left_on='ultima_fecha', right_on='Date', how='left')\n",
    "merged_df_tc['monto'] = pd.to_numeric(merged_df_tc['monto'], errors='coerce')\n",
    "merged_df_tc['tc'] = pd.to_numeric(merged_df_tc['tc'], errors='coerce')\n",
    "\n",
    "def convert_to_usd(row):\n",
    "    if pd.isna(row['Currency Pair']) or row['moneda'] == 'USD':\n",
    "        return row['monto']\n",
    "    currency_pair_map = {'SOL': 'PENUSD', 'EUR': 'EURUSD', 'JPY': 'JPYUSD', 'GBP': 'GBPUSD'}\n",
    "    if row['moneda'] in currency_pair_map and row['Currency Pair'] == currency_pair_map[row['moneda']]:\n",
    "        return row['monto'] / row['tc'] if row['moneda'] == 'SOL' else row['monto'] * row['tc']\n",
    "    return 0\n",
    "\n",
    "merged_df_tc['monto_usd'] = merged_df_tc.apply(convert_to_usd, axis=1)\n",
    "merged_df_tc = merged_df_tc[merged_df_tc['monto_usd'] != 0]\n",
    "merged_df_tc_final = merged_df_tc[['codigo', 'ultima_fecha', 'monto_usd', 'ultima_compra']]\n",
    "merged_df_tc_final = merged_df_tc_final[merged_df_tc_final['monto_usd'].notna()]"
   ]
  },
  {
   "cell_type": "code",
   "execution_count": 4,
   "metadata": {},
   "outputs": [],
   "source": [
    "df_inventory = pd.read_excel(\"data/raw/catusita/inventory.xlsx\")\n",
    "df_inventory.columns = ['cia', 'date', 'codigo', 'descripcion', 'um', 'stock']\n",
    "df_inventory.loc[:, 'codigo'] = df_inventory['codigo'].str.lower()\n",
    "df_inventory['date'] = pd.to_datetime(df_inventory['date'], format='%Y%m%d')\n",
    "max_date = df_inventory['date'].max()\n",
    "df_inventory = df_inventory.groupby(['date','codigo','descripcion','um']).agg(\n",
    "    {\n",
    "        'stock':'sum'\n",
    "    }\n",
    ").reset_index()\n",
    "\n",
    "df_inventory = df_inventory[\n",
    "    (df_inventory['date'] != 'Periodo') & \n",
    "    (df_inventory['date'].notna())&\n",
    "    (df_inventory['date']==max_date)\n",
    "]\n",
    "df_inventory_final=pd.concat(\n",
    "    [\n",
    "        pd.DataFrame(df_inventory['codigo'].unique(), columns=['codigo']),\n",
    "        pd.DataFrame(df_products['articulo'].unique(), columns=['codigo'])\n",
    "    ], \n",
    "    ignore_index=True\n",
    ").drop_duplicates()\n",
    "df_inventory_final = df_inventory_final.merge(\n",
    "    df_inventory[['date','codigo','stock']].drop_duplicates(),\n",
    "    how='left',\n",
    "    on='codigo'\n",
    ")\n",
    "df_inventory_final['stock']=df_inventory_final['stock'].fillna(0)\n",
    "df_inventory_final['date'] = df_inventory_final['date'].fillna(max_date)"
   ]
  },
  {
   "cell_type": "code",
   "execution_count": null,
   "metadata": {},
   "outputs": [],
   "source": [
    "####################################################"
   ]
  },
  {
   "cell_type": "code",
   "execution_count": 22,
   "metadata": {},
   "outputs": [],
   "source": [
    "articulo_mas_venta = df_products.groupby('articulo').agg({'venta_pen': 'sum'}) \\\n",
    "    .sort_values('venta_pen', ascending=False) \\\n",
    "    .reset_index() \\\n",
    "    .iloc[0]['articulo']\n",
    "\n"
   ]
  },
  {
   "cell_type": "code",
   "execution_count": null,
   "metadata": {},
   "outputs": [],
   "source": [
    "###################################"
   ]
  },
  {
   "cell_type": "code",
   "execution_count": 8,
   "metadata": {},
   "outputs": [
    {
     "data": {
      "text/plain": [
       "{'01277'}"
      ]
     },
     "execution_count": 8,
     "metadata": {},
     "output_type": "execute_result"
    }
   ],
   "source": [
    "lista_predicciones = results_models_comparison['sku'].unique()\n",
    "lista_ventas = df_products['articulo'].unique()\n",
    "\n",
    "set_predicciones = set(lista_predicciones)\n",
    "set_ventas = set(lista_ventas)\n",
    "set_ventas - set_predicciones"
   ]
  },
  {
   "cell_type": "code",
   "execution_count": 129,
   "metadata": {},
   "outputs": [],
   "source": [
    "df_merged = results_models_comparison.copy()\n",
    "df_merged = df_merged.rename(columns={'sku':'articulo'})\n",
    "df_merged = df_merged.merge(\n",
    "    df_products[['articulo', 'fuente_suministro','lt']].drop_duplicates(), \n",
    "    how='left', \n",
    "    on='articulo'\n",
    ")\n",
    "df_merged['date'] = pd.to_datetime(df_merged['date'])\n",
    "df_inventory['date'] = pd.to_datetime(df_inventory['date'])\n",
    "df_merged = df_merged.merge(\n",
    "    df_inventory[['codigo', 'stock', 'date']].drop_duplicates(), \n",
    "    how='left', \n",
    "    left_on=['articulo', 'date'], \n",
    "    right_on=['codigo', 'date']\n",
    ")\n",
    "df_merged['stock'] = df_merged['stock'].fillna(0)\n",
    "df_merged = df_merged.drop(columns='codigo')"
   ]
  },
  {
   "cell_type": "code",
   "execution_count": 8,
   "metadata": {},
   "outputs": [],
   "source": [
    "df_precio = df_products[['articulo', 'cantidad', 'venta_pen', 'fecha']].copy()\n",
    "df_precio['fecha'] = pd.to_datetime(df_precio['fecha'], errors='coerce')\n",
    "# df_precio = df_precio[df_precio['fecha'].dt.year == 2024]\n",
    "df_precio['precio'] = df_precio['venta_pen'] / df_precio['cantidad']\n",
    "result_precio = df_precio.groupby('articulo').agg(precio=('precio', 'mean')).reset_index()"
   ]
  },
  {
   "cell_type": "code",
   "execution_count": 9,
   "metadata": {},
   "outputs": [],
   "source": [
    "df_margen = df_products[['articulo', 'fuente_suministro','costo', 'venta_pen', 'fecha']].copy()\n",
    "df_margen['fecha'] = pd.to_datetime(df_margen['fecha'], errors='coerce')\n",
    "# df_margen = df_margen[df_margen['fecha'].dt.year == 2024]\n",
    "df_margen['margen'] = df_margen['venta_pen'] / df_margen['costo'] - 1\n",
    "margin_result = df_margen.groupby('articulo').agg(\n",
    "    total_venta_pen=('venta_pen', 'sum'),\n",
    "    mean_margen=('margen', 'mean')\n",
    ").reset_index().sort_values(by='total_venta_pen', ascending=False)\n",
    "margin_result_fuente = df_margen.groupby('articulo').agg(\n",
    "    mean_margen=('margen', 'mean')\n",
    ").reset_index()"
   ]
  },
  {
   "cell_type": "code",
   "execution_count": 11,
   "metadata": {},
   "outputs": [
    {
     "ename": "NameError",
     "evalue": "name 'df_merged' is not defined",
     "output_type": "error",
     "traceback": [
      "\u001b[1;31m---------------------------------------------------------------------------\u001b[0m",
      "\u001b[1;31mNameError\u001b[0m                                 Traceback (most recent call last)",
      "Cell \u001b[1;32mIn[11], line 1\u001b[0m\n\u001b[1;32m----> 1\u001b[0m df1 \u001b[38;5;241m=\u001b[39m \u001b[43mdf_merged\u001b[49m[[\u001b[38;5;124m'\u001b[39m\u001b[38;5;124mfuente_suministro\u001b[39m\u001b[38;5;124m'\u001b[39m, \u001b[38;5;124m'\u001b[39m\u001b[38;5;124mdate\u001b[39m\u001b[38;5;124m'\u001b[39m, \u001b[38;5;124m'\u001b[39m\u001b[38;5;124marticulo\u001b[39m\u001b[38;5;124m'\u001b[39m,\u001b[38;5;124m'\u001b[39m\u001b[38;5;124mreal\u001b[39m\u001b[38;5;124m'\u001b[39m, \u001b[38;5;124m'\u001b[39m\u001b[38;5;124mcatusita\u001b[39m\u001b[38;5;124m'\u001b[39m, \u001b[38;5;124m'\u001b[39m\u001b[38;5;124mcaa\u001b[39m\u001b[38;5;124m'\u001b[39m,\u001b[38;5;124m'\u001b[39m\u001b[38;5;124mlt_x\u001b[39m\u001b[38;5;124m'\u001b[39m]]\u001b[38;5;241m.\u001b[39mcopy()\n\u001b[0;32m      2\u001b[0m df1 \u001b[38;5;241m=\u001b[39m df1\u001b[38;5;241m.\u001b[39mrename(columns\u001b[38;5;241m=\u001b[39m{\u001b[38;5;124m'\u001b[39m\u001b[38;5;124mcatusita\u001b[39m\u001b[38;5;124m'\u001b[39m: \u001b[38;5;124m'\u001b[39m\u001b[38;5;124mventa_sin_recomendacion\u001b[39m\u001b[38;5;124m'\u001b[39m, \u001b[38;5;124m'\u001b[39m\u001b[38;5;124mcaa\u001b[39m\u001b[38;5;124m'\u001b[39m: \u001b[38;5;124m'\u001b[39m\u001b[38;5;124mventa_con_recomendacion\u001b[39m\u001b[38;5;124m'\u001b[39m})\n\u001b[0;32m      3\u001b[0m df1_final \u001b[38;5;241m=\u001b[39m df1\u001b[38;5;241m.\u001b[39mmerge(result_precio, how\u001b[38;5;241m=\u001b[39m\u001b[38;5;124m'\u001b[39m\u001b[38;5;124mleft\u001b[39m\u001b[38;5;124m'\u001b[39m, on\u001b[38;5;241m=\u001b[39m\u001b[38;5;124m'\u001b[39m\u001b[38;5;124marticulo\u001b[39m\u001b[38;5;124m'\u001b[39m)\n",
      "\u001b[1;31mNameError\u001b[0m: name 'df_merged' is not defined"
     ]
    }
   ],
   "source": [
    "df1 = df_merged[['fuente_suministro', 'date', 'articulo','real', 'catusita', 'caa','lt_x']].copy()\n",
    "df1 = df1.rename(columns={'catusita': 'venta_sin_recomendacion', 'caa': 'venta_con_recomendacion'})\n",
    "df1_final = df1.merge(result_precio, how='left', on='articulo')\n",
    "df1_final = df1_final[['fuente_suministro', 'date', 'articulo', 'venta_sin_recomendacion', 'venta_con_recomendacion','real', 'precio','lt_x']]\n",
    "\n",
    "df1_final['ingreso_sin_recomendacion'] = np.where(\n",
    "    df1_final['venta_sin_recomendacion'] < df1_final['real'],\n",
    "    df1_final['venta_sin_recomendacion'] * df1_final['precio'],\n",
    "    df1_final['real'] * df1_final['precio']\n",
    ")\n",
    "\n",
    "df1_final['venta_con_recomendacion'] = np.where(\n",
    "    df1_final['venta_con_recomendacion'] < df1_final['real'],\n",
    "    df1_final['venta_con_recomendacion'] * df1_final['precio'],\n",
    "    df1_final['real'] * df1_final['precio']\n",
    ")\n",
    "\n",
    "df1_final['ingreso_sin_recomendacion_ajustado'] = df1_final['ingreso_sin_recomendacion'] / (df1_final['lt_x'] * 0.83)\n",
    "df1_final['ingreso_con_recomendación_ajustado'] = df1_final['venta_con_recomendacion'] / (df1_final['lt_x'] * 0.83)\n",
    "\n",
    "penusd_tc = long_format[long_format['Currency Pair'] == 'PENUSD'].groupby('Date')['tc'].last().reset_index()\n",
    "df1_final = df1_final.merge(penusd_tc, how='left', left_on='date', right_on='Date')\n",
    "df1_final['tc'] = 1/df1_final['tc']\n",
    "df1_final['ingreso_usd_sin_recomendacion'] = df1_final['ingreso_sin_recomendacion_ajustado'] / df1_final['tc']\n",
    "df1_final['ingreso_usd_con_recomendacion'] = df1_final['ingreso_con_recomendación_ajustado'] / df1_final['tc']\n",
    "df1_final = df1_final[['fuente_suministro', 'date', 'articulo', 'lt_x', 'ingreso_usd_sin_recomendacion', 'ingreso_usd_con_recomendacion', 'tc']]\n",
    "# df1_final = df1_final.drop_duplicates()\n"
   ]
  },
  {
   "cell_type": "code",
   "execution_count": null,
   "metadata": {},
   "outputs": [],
   "source": [
    "# last_date = df_merged['date'].max()\n",
    "# df_merged_last = df_merged[df_merged['date'] == last_date].copy()\n",
    "df_merged_last = df_merged.copy()\n",
    "\n",
    "df_merged_last['demanda_mensual'] = df_merged_last['caa'] / df_merged_last['lt_x']\n",
    "dffinal2 = df_merged_last[['articulo', 'stock', 'caa', 'demanda_mensual', 'corr_sd', 'lt_x']]\n",
    "dffinal2 = dffinal2.copy()\n",
    "dffinal2['meses_proteccion'] = dffinal2['corr_sd'] / dffinal2['demanda_mensual']\n",
    "dffinal2 = dffinal2[['articulo', 'stock', 'caa', 'demanda_mensual', 'meses_proteccion', 'lt_x']]\n",
    "dffinal2 = dffinal2.merge(margin_result[['articulo', 'mean_margen']], how='left', on='articulo')\n",
    "dffinal2 = dffinal2.merge(merged_df_tc_final, how='left', left_on='articulo', right_on='codigo')\n"
   ]
  },
  {
   "cell_type": "code",
   "execution_count": null,
   "metadata": {},
   "outputs": [],
   "source": [
    "df_predicciones = pd.read_csv(f\"{path}/data/cleaned/predictions.csv\")\n",
    "df_inventory2 = pd.read_excel(f\"{path}/data/raw/catusita/inventory.xlsx\")\n",
    "\n",
    "df_predicciones = df_predicciones.rename(columns={'sku': 'articulo'})\n",
    "\n",
    "df_inventory2 = df_inventory2[\n",
    "    (df_inventory2['FECHA AL'] != 'Periodo') & \n",
    "    (df_inventory2['FECHA AL'].notna())\n",
    "]\n",
    "\n",
    "df_inventory2['FECHA AL'] = pd.to_datetime(df_inventory2['FECHA AL'], format='%d/%m/%Y')\n",
    "# max_date = df_inventory2['FECHA AL'].max()\n",
    "# df_inventory2 = df_inventory2[df_inventory2['FECHA AL'] == max_date]\n",
    "df_inventory2['FECHA AL'] = df_inventory2['FECHA AL'].dt.strftime('%d/%m/%Y')\n",
    "df_inventory2['CODIGO'] = df_inventory2['CODIGO'].str.lower()\n",
    "\n",
    "df_predicciones['date'] = pd.to_datetime(df_predicciones['date'], format='%Y-%m-%d')\n",
    "df_predicciones['date'] = df_predicciones['date'].dt.strftime('%d/%m/%Y')\n",
    "\n",
    "merged_df = df_predicciones.merge(\n",
    "    df_inventory2[['FECHA AL', 'CODIGO', 'STOCK']], \n",
    "    how='left', \n",
    "    left_on=['articulo'], \n",
    "    right_on=['CODIGO']\n",
    ")\n",
    "\n",
    "merged_df['STOCK'] = merged_df['STOCK'].fillna(0)\n",
    "\n",
    "if not back_order.empty:\n",
    "    merged_df = merged_df.merge(back_order, how='left', on='articulo')\n",
    "    merged_df['backorder'] = merged_df['backorder'].fillna(0)\n",
    "else:\n",
    "    merged_df['backorder'] = 0\n",
    "\n",
    "merged_df['sobrante'] = np.maximum(merged_df['STOCK'] + merged_df['backorder'] - merged_df['caa_lt'], 0)\n",
    "merged_df['nueva_compra_sugerida'] = np.maximum(merged_df['caa'] - merged_df['sobrante'], 0)\n",
    "# merged_df['nueva_compra_sugerida'] = np.ceil(merged_df['nueva_compra_sugerida']).astype(int)\n",
    "merged_df['nueva_compra_sugerida'] = np.ceil(merged_df['nueva_compra_sugerida']).fillna(0).astype(int)\n",
    "\n",
    "merge_columns = merged_df[['articulo', 'nueva_compra_sugerida', 'caa', 'backorder']].copy()\n",
    "\n",
    "dffinal2 = dffinal2.merge(merge_columns, how='left', on='articulo')\n",
    "dffinal2['compra_sugerida'] = dffinal2['nueva_compra_sugerida'].fillna(0)\n",
    "dffinal2['backorder'] = dffinal2['backorder'].fillna(0)\n",
    "\n",
    "mask = dffinal2['demanda_mensual'] != 0\n",
    "dffinal2.loc[mask, 'meses_proteccion'] = (\n",
    "    dffinal2.loc[mask, 'meses_proteccion'] * \n",
    "    (dffinal2.loc[mask, 'compra_sugerida'] / dffinal2.loc[mask, 'demanda_mensual'])\n",
    ")\n",
    "\n",
    "columns_to_drop = ['codigo', 'nueva_compra_sugerida', 'caa']\n",
    "for col in columns_to_drop:\n",
    "    if col in dffinal2.columns:\n",
    "        dffinal2 = dffinal2.drop(columns=[col])\n",
    "\n",
    "def finalize_processing(self) -> None:\n",
    "dffinal2 = dffinal2.rename(columns={'caa_x': 'compras_recomendadas'})\n",
    "dffinal2 = dffinal2.drop_duplicates()\n",
    "# dffinal2['compras_recomendadas'] = dffinal2['compras_recomendadas'].apply(lambda x: math.ceil(x / 50) * 50)\n",
    "dffinal2['compras_recomendadas'] = dffinal2['compras_recomendadas'].fillna(0).apply(lambda x: math.ceil(x / 50) * 50)\n",
    "dffinal2['costo_compra'] = dffinal2['monto_usd'] * dffinal2['compras_recomendadas']\n",
    "\n",
    "df1_final_filled = df1_final.fillna(0)\n",
    "df1_final_grouped = df1_final_filled.groupby(['articulo', 'fuente_suministro']).agg({\n",
    "    'ingreso_usd_sin_recomendacion': 'sum',\n",
    "    'ingreso_usd_con_recomendacion': 'sum'\n",
    "}).reset_index()\n",
    "\n",
    "dffinal2 = dffinal2.merge(\n",
    "    df1_final_grouped[['articulo', 'fuente_suministro']], \n",
    "    how='left', \n",
    "    on='articulo'\n",
    ")\n",
    "\n",
    "dffinal2 = dffinal2.merge(\n",
    "    df_rfm, \n",
    "    left_on='articulo',\n",
    "    right_on='sku',\n",
    "    how='left'\n",
    ")\n",
    "dffinal2['rfm'] = dffinal2['rfm'].fillna(0).astype(int)\n",
    "\n",
    "df1_final_grouped['ganancia_oportunidad'] = (\n",
    "    df1_final_grouped['ingreso_usd_con_recomendacion'] - \n",
    "    df1_final_grouped['ingreso_usd_sin_recomendacion']\n",
    ")\n",
    "\n",
    "df1_final_grouped_fs = df1_final_grouped.groupby(['fuente_suministro']).agg({\n",
    "    'ganancia_oportunidad': 'sum'\n",
    "}).reset_index()\n",
    "\n",
    "df1_final_grouped_fs = df1_final_grouped_fs.sort_values(\n",
    "    by='ganancia_oportunidad', \n",
    "    ascending=False\n",
    ").reset_index(drop=True)\n",
    "\n",
    "df1_final_grouped_fs['hierarchy'] = df1_final_grouped_fs.index + 1\n",
    "\n",
    "dffinal2 = dffinal2.merge(\n",
    "    df1_final_grouped_fs[['fuente_suministro', 'hierarchy']], \n",
    "    how='left', \n",
    "    on='fuente_suministro'\n",
    ")\n",
    "\n",
    "# dffinal2['venta_acumulada'] = dffinal2['demanda_mensual'] * dffinal2['monto_usd'] * dffinal2['lt_x']\n",
    "# dffinal2['deficit'] = dffinal2['venta_acumulada'] - (dffinal2['stock'] + dffinal2['backorder']) * dffinal2['monto_usd']\n",
    "# dffinal2['deficit'] = dffinal2['deficit'].apply(lambda x: max(x, 0))  # El déficit no puede ser negativo\n",
    "# dffinal2['urgency'] = dffinal2['deficit'].rank(method='min', ascending=False).fillna(0).astype(int)\n",
    "\n",
    "dffinal2.loc[dffinal2['demanda_mensual'] < 0, 'demanda_mensual'] = 0\n",
    "dffinal2.loc[dffinal2['compras_recomendadas'] < 0, 'compras_recomendadas'] = 0\n",
    "# dffinal2['demanda_mensual'] = dffinal2['demanda_mensual'].fillna(0) \n",
    "# dffinal2['compras_recomendadas'] = dffinal2['compras_recomendadas'].fillna(0) \n",
    "\n",
    "# Calcular riesgo\n",
    "dffinal2['holgura'] = dffinal2['stock'] / dffinal2['demanda_mensual']\n",
    "dffinal2['consumiendo_proteccion'] = (dffinal2['holgura'] < dffinal2['meses_proteccion']).astype(int)\n",
    "dffinal2['quebro'] = (dffinal2['holgura'] <= 0).astype(int)\n",
    "dffinal2['va_a_quebrar'] = ((dffinal2['stock'] + dffinal2['backorder']) < dffinal2['demanda_mensual']).astype(int)\n",
    "dffinal2['verde'] = (\n",
    "    (dffinal2['quebro'] == 0) & \n",
    "    (dffinal2['consumiendo_proteccion'] == 0) & \n",
    "    (dffinal2['va_a_quebrar'] == 0)\n",
    ").astype(int)\n",
    "dffinal2['amarillo'] = (\n",
    "    (dffinal2['consumiendo_proteccion'] == 1) & \n",
    "    (dffinal2['quebro'] == 0)\n",
    ").astype(int)\n",
    "dffinal2['rojo'] = (\n",
    "    (dffinal2['quebro'] == 1) |\n",
    "    (dffinal2['va_a_quebrar'] == 1) \n",
    "    ).astype(int)\n",
    "dffinal2['riesgo'] = dffinal2.apply(\n",
    "    lambda row: 'rojo' if row['rojo'] == 1 else \n",
    "                'amarillo' if row['amarillo'] == 1 else \n",
    "                'verde',\n",
    "    axis=1\n",
    ")\n",
    "\n",
    "# filtrar solo las importantes para la tabla por fuente de suministro\n",
    "dffinal2['demanda_mensual_usd'] = dffinal2['demanda_mensual'] * dffinal2['monto_usd']\n",
    "df_temp = dffinal2.copy()\n",
    "df_temp = df_temp[(df_temp['rfm']==3) & (df_temp['riesgo']=='rojo')]\n",
    "df_temp = df_temp.groupby('fuente_suministro').agg(\n",
    "    recomendacion=('costo_compra', 'sum'),\n",
    "    demanda_mensual_usd = ('demanda_mensual_usd','sum')\n",
    ").reset_index()\n",
    "df_temp2 = dffinal2.groupby('fuente_suministro').agg(\n",
    "    lead_time=('lt_x', 'first'),\n",
    "    riesgo=('riesgo', lambda x: x.mode()[0] if not x.mode().empty else None), # moda\n",
    ").reset_index()\n",
    "dffinal3 = df_temp2.merge(df_temp, how='left',on='fuente_suministro')\n",
    "dffinal3['recomendacion'] = dffinal3['recomendacion'].fillna(0).astype(int)\n",
    "dffinal3['demanda_mensual_usd'] = dffinal3['demanda_mensual_usd'].fillna(0).astype(int)\n",
    "\n",
    "# filtrar rfm = 3 para tabla de dashboard\n",
    "# dfdashboard = dffinal2[dffinal2['rfm']==3]\n",
    "\n",
    "# dar formato\n",
    "dffinal3['riesgo_color'] = dffinal3['riesgo'].map({\n",
    "    'verde': '🟢',\n",
    "    'amarillo': '🟡',\n",
    "    #'naranja': '🟠',\n",
    "    'rojo': '🔴'\n",
    "})\n",
    "dffinal2 = dffinal2[[\n",
    "    'articulo','fuente_suministro','stock','compras_recomendadas','demanda_mensual','meses_proteccion',\n",
    "    'riesgo','lt_x','mean_margen','ultima_fecha','monto_usd',\n",
    "    'ultima_compra','costo_compra','rfm','backorder'\n",
    "]]\n",
    "dfdashboard = dffinal2[[\n",
    "    'articulo','fuente_suministro','stock','backorder','rfm','riesgo',\n",
    "    'monto_usd','ultima_compra','compras_recomendadas','costo_compra'\n",
    "]]\n",
    "dffinal3 = dffinal3[[\n",
    "    'fuente_suministro',\n",
    "    'lead_time',\n",
    "    'recomendacion',\n",
    "    'demanda_mensual_usd'\n",
    "]]\n",
    "# columns mapping\n",
    "display_columns = {\n",
    "    'articulo': 'Artículo',\n",
    "    'fuente_suministro': 'Fuente Suministro',\n",
    "    'stock': 'Inventario',\n",
    "    'backorder': 'Backorder',\n",
    "    'compras_recomendadas': 'Compras Recomendadas',\n",
    "    'rfm':'Importancia RFM',\n",
    "    'riesgo': 'Alerta',\n",
    "    'monto_usd': 'Monto USD',\n",
    "    'ultima_compra': 'Última Compra',\n",
    "    'demanda_mensual': 'Demanda Mensual',\n",
    "    'lt_x': 'Lead Time',\n",
    "    'mean_margen': 'Margen',\n",
    "    'meses_proteccion': 'Meses proteccion',\n",
    "    'ultima_fecha': 'Ultima fecha',\n",
    "    'costo_compra': 'Recomendacion USD'\n",
    "    }\n",
    "display_columns_fuente = {\n",
    "    'fuente_suministro': 'Fuente de Suministro',\n",
    "    'lead_time': 'Lead Time',\n",
    "    'recomendacion': 'Recomendacion USD',\n",
    "    'demanda_mensual_usd': 'Demanda Mensual USD',\n",
    "    'mean_margen': 'Margen Promedio'\n",
    "}\n",
    "\n",
    "dfdashboard = dfdashboard.rename(columns=display_columns)\n",
    "dffinal2 = dffinal2.rename(columns=display_columns)\n",
    "dffinal3 = dffinal3.rename(columns=display_columns_fuente)"
   ]
  },
  {
   "cell_type": "code",
   "execution_count": null,
   "metadata": {},
   "outputs": [],
   "source": [
    "##########################"
   ]
  },
  {
   "cell_type": "code",
   "execution_count": 159,
   "metadata": {},
   "outputs": [],
   "source": [
    "file_path = 'data/raw/catusita/Data de venta 01.01.21 a 06.12.24.xls'\n",
    "\n",
    "df_catusita = pd.read_excel(file_path, sheet_name=\"Sheet1\")\n",
    "lista_columnas = df_catusita.columns.tolist()\n",
    "\n",
    "excel_file = pd.ExcelFile(file_path)\n",
    "list_hojas = excel_file.sheet_names[1:]\n",
    "\n",
    "for hoja in list_hojas:\n",
    "    df_catusita_hoja = pd.read_excel(file_path, sheet_name=hoja, header=None)\n",
    "    df_catusita_hoja.columns = lista_columnas\n",
    "    callable = pd.concat([df_catusita, df_catusita_hoja], ignore_index=True)"
   ]
  },
  {
   "cell_type": "code",
   "execution_count": 165,
   "metadata": {},
   "outputs": [
    {
     "data": {
      "text/plain": [
       "Timestamp('2024-12-06 00:00:00')"
      ]
     },
     "execution_count": 165,
     "metadata": {},
     "output_type": "execute_result"
    }
   ],
   "source": [
    "df_catusita['Fecha'].max()"
   ]
  },
  {
   "cell_type": "code",
   "execution_count": 168,
   "metadata": {},
   "outputs": [
    {
     "data": {
      "text/plain": [
       "'2024-11-30'"
      ]
     },
     "execution_count": 168,
     "metadata": {},
     "output_type": "execute_result"
    }
   ],
   "source": [
    "df_products['fecha'].max()"
   ]
  }
 ],
 "metadata": {
  "kernelspec": {
   "display_name": "Python 3",
   "language": "python",
   "name": "python3"
  },
  "language_info": {
   "codemirror_mode": {
    "name": "ipython",
    "version": 3
   },
   "file_extension": ".py",
   "mimetype": "text/x-python",
   "name": "python",
   "nbconvert_exporter": "python",
   "pygments_lexer": "ipython3",
   "version": "3.12.8"
  }
 },
 "nbformat": 4,
 "nbformat_minor": 2
}
